{
  "nbformat": 4,
  "nbformat_minor": 0,
  "metadata": {
    "colab": {
      "name": "어이백준이",
      "provenance": [],
      "collapsed_sections": [],
      "toc_visible": true,
      "authorship_tag": "ABX9TyPml2xhmDS49I0w3RtTqDye",
      "include_colab_link": true
    },
    "kernelspec": {
      "name": "python3",
      "display_name": "Python 3"
    },
    "language_info": {
      "name": "python"
    }
  },
  "cells": [
    {
      "cell_type": "markdown",
      "metadata": {
        "id": "view-in-github",
        "colab_type": "text"
      },
      "source": [
        "<a href=\"https://colab.research.google.com/github/ringolove/Paik_Sensei_Test_1/blob/main/%EC%96%B4%EC%9D%B4%EB%B0%B1%EC%A4%80%EC%9D%B4.ipynb\" target=\"_parent\"><img src=\"https://colab.research.google.com/assets/colab-badge.svg\" alt=\"Open In Colab\"/></a>"
      ]
    },
    {
      "cell_type": "markdown",
      "metadata": {
        "id": "VckTC9zStLLr"
      },
      "source": [
        "#1. 1~3단계"
      ]
    },
    {
      "cell_type": "markdown",
      "metadata": {
        "id": "m4nOmLBKPj5f"
      },
      "source": [
        "##1000"
      ]
    },
    {
      "cell_type": "code",
      "metadata": {
        "colab": {
          "base_uri": "https://localhost:8080/"
        },
        "id": "wHeJcFApOEmp",
        "outputId": "78ee6d0e-4dee-467c-a1f4-0f11d3dd3a46"
      },
      "source": [
        "a, b = map(int, input().split())\n",
        "print(a+b)"
      ],
      "execution_count": null,
      "outputs": [
        {
          "output_type": "stream",
          "name": "stdout",
          "text": [
            "1 11\n",
            "12\n"
          ]
        }
      ]
    },
    {
      "cell_type": "code",
      "metadata": {
        "colab": {
          "base_uri": "https://localhost:8080/"
        },
        "id": "KUxuYvwROVgy",
        "outputId": "076283f5-62f4-46d8-bf27-5672e930475a"
      },
      "source": [
        "a, b = (input().split())\n",
        "print(int(a)+int(b))"
      ],
      "execution_count": null,
      "outputs": [
        {
          "output_type": "stream",
          "name": "stdout",
          "text": [
            "1  1\n",
            "2\n"
          ]
        }
      ]
    },
    {
      "cell_type": "markdown",
      "metadata": {
        "id": "utIP8TQWP95A"
      },
      "source": [
        "##1001"
      ]
    },
    {
      "cell_type": "code",
      "metadata": {
        "colab": {
          "base_uri": "https://localhost:8080/"
        },
        "id": "K7KB9SggPHX9",
        "outputId": "3f051422-791c-42da-bb0d-70b222770739"
      },
      "source": [
        "a, b = map((int), input().split())\n",
        "print(a-b)"
      ],
      "execution_count": null,
      "outputs": [
        {
          "output_type": "stream",
          "name": "stdout",
          "text": [
            "2 1\n",
            "1\n"
          ]
        }
      ]
    },
    {
      "cell_type": "markdown",
      "metadata": {
        "id": "bZ_2vwn2SBlb"
      },
      "source": [
        "##1008"
      ]
    },
    {
      "cell_type": "code",
      "metadata": {
        "colab": {
          "base_uri": "https://localhost:8080/"
        },
        "id": "xEvWB5tBQA6n",
        "outputId": "4263fb7f-34c5-42b8-9dd8-2cb4b5057cb8"
      },
      "source": [
        "a, b = map(int, input().split())\n",
        "print(a/b)"
      ],
      "execution_count": null,
      "outputs": [
        {
          "output_type": "stream",
          "name": "stdout",
          "text": [
            "1 3\n",
            "0.3333333333333333\n"
          ]
        }
      ]
    },
    {
      "cell_type": "markdown",
      "metadata": {
        "id": "EjPjbIMkVjUW"
      },
      "source": [
        "##10430"
      ]
    },
    {
      "cell_type": "code",
      "metadata": {
        "colab": {
          "base_uri": "https://localhost:8080/"
        },
        "id": "GglLBHNmSDOU",
        "outputId": "ef22859b-c698-4112-cda5-62ed1a9d424b"
      },
      "source": [
        "a, b, c = map(int, input().split())\n",
        "print((a+b)%c)\n",
        "print(((a%c)+(b%c))%c)\n",
        "print((a*b)%c)\n",
        "print(((a%c)*(b%c))%c)"
      ],
      "execution_count": null,
      "outputs": [
        {
          "output_type": "stream",
          "name": "stdout",
          "text": [
            "5 8 4\n",
            "1\n",
            "1\n",
            "0\n",
            "0\n"
          ]
        }
      ]
    },
    {
      "cell_type": "markdown",
      "metadata": {
        "id": "ulPpNy4_WWgT"
      },
      "source": [
        "##2588"
      ]
    },
    {
      "cell_type": "code",
      "metadata": {
        "colab": {
          "base_uri": "https://localhost:8080/"
        },
        "id": "2VAXmQD3V4sk",
        "outputId": "362894af-6c35-4cc5-9dbb-a69a11714e3e"
      },
      "source": [
        "abc = int(input())\n",
        "cde = int(input())\n",
        "print(abc*(cde%10))\n",
        "print(abc*((cde%100)//10))\n",
        "print(abc*(cde//100))\n",
        "print(abc*cde)\n"
      ],
      "execution_count": null,
      "outputs": [
        {
          "output_type": "stream",
          "name": "stdout",
          "text": [
            "472\n",
            "385\n",
            "2360\n",
            "3776\n",
            "1416\n",
            "181720\n"
          ]
        }
      ]
    },
    {
      "cell_type": "code",
      "metadata": {
        "colab": {
          "base_uri": "https://localhost:8080/"
        },
        "id": "R4O_452iWoJh",
        "outputId": "bc126106-6524-4692-d489-a72759437c66"
      },
      "source": [
        "abc = int(input())\n",
        "cde = input()\n",
        "for i in range(len(cde), 0, -1):\n",
        "  print(abc*int(cde[i-1]))\n",
        "\n",
        "print(abc*int(cde))"
      ],
      "execution_count": null,
      "outputs": [
        {
          "output_type": "stream",
          "name": "stdout",
          "text": [
            "472\n",
            "385\n",
            "2360\n",
            "3776\n",
            "1416\n",
            "181720\n"
          ]
        }
      ]
    },
    {
      "cell_type": "code",
      "metadata": {
        "colab": {
          "base_uri": "https://localhost:8080/"
        },
        "id": "aNr_5jGjZRcD",
        "outputId": "7003c2fe-b26e-4bce-f821-735b77d05833"
      },
      "source": [
        "abc = int(input())\n",
        "cde = list(map(int, input()))\n",
        "result = []\n",
        "for i in range(len(cde), 0, -1):\n",
        "  result.append(abc*int(cde[i-1]))\n",
        "print(result[0], result[1], result[2], sep='\\n')\n",
        "print(result[0]+(result[1]*10)+result[2]*100)"
      ],
      "execution_count": null,
      "outputs": [
        {
          "output_type": "stream",
          "name": "stdout",
          "text": [
            "472\n",
            "385\n",
            "2360\n",
            "3776\n",
            "1416\n",
            "181720\n"
          ]
        }
      ]
    },
    {
      "cell_type": "markdown",
      "metadata": {
        "id": "hozK36iBj4Sr"
      },
      "source": [
        "##1330"
      ]
    },
    {
      "cell_type": "code",
      "metadata": {
        "colab": {
          "base_uri": "https://localhost:8080/"
        },
        "id": "j1UrXBqbj4wm",
        "outputId": "3ae7cc1f-b60e-47c1-ed6a-372f31c4adce"
      },
      "source": [
        "a, b = map(int, input().split())\n",
        "if a>b:\n",
        "  print('>')\n",
        "elif a<b:\n",
        "  print('<')\n",
        "else:\n",
        "  print('==')"
      ],
      "execution_count": null,
      "outputs": [
        {
          "output_type": "stream",
          "name": "stdout",
          "text": [
            "2 1\n",
            ">\n"
          ]
        }
      ]
    },
    {
      "cell_type": "code",
      "metadata": {
        "colab": {
          "base_uri": "https://localhost:8080/"
        },
        "id": "-S0EaqnWlpyR",
        "outputId": "c998c738-3aa9-4c37-8243-8510b7da40f3"
      },
      "source": [
        "a = int(input())\n",
        "if a>89:\n",
        "  print('A')\n",
        "elif a>79:\n",
        "  print('B')\n",
        "elif a>69:\n",
        "  print('C')\n",
        "elif a>59:\n",
        "  print('D')\n",
        "else:\n",
        "  print('F')"
      ],
      "execution_count": null,
      "outputs": [
        {
          "output_type": "stream",
          "name": "stdout",
          "text": [
            "3\n",
            "F\n"
          ]
        }
      ]
    },
    {
      "cell_type": "markdown",
      "metadata": {
        "id": "zOeoyKBVmsqh"
      },
      "source": [
        "##2753"
      ]
    },
    {
      "cell_type": "code",
      "metadata": {
        "colab": {
          "base_uri": "https://localhost:8080/"
        },
        "id": "6p8LEHTNmuIR",
        "outputId": "09de29bc-f5a9-484f-c747-acf7dd8e8551"
      },
      "source": [
        "a = int(input())\n",
        "if (a%4 == 0 and a%100 != 0) or a%400 == 0:\n",
        "  print('1')\n",
        "else:\n",
        "  print('0')"
      ],
      "execution_count": null,
      "outputs": [
        {
          "output_type": "stream",
          "name": "stdout",
          "text": [
            "1999\n",
            "0\n"
          ]
        }
      ]
    },
    {
      "cell_type": "markdown",
      "metadata": {
        "id": "kDU3AbBcqfFq"
      },
      "source": [
        "##14681"
      ]
    },
    {
      "cell_type": "code",
      "metadata": {
        "colab": {
          "base_uri": "https://localhost:8080/"
        },
        "id": "3ugDPQPaqdzG",
        "outputId": "47dd9ce7-803c-4419-84be-446bec5aa191"
      },
      "source": [
        "a = int(input())\n",
        "b = int(input())\n",
        "if a>0 and b>0:\n",
        "  print('1')\n",
        "elif a<0 and b>0:\n",
        "  print('2')\n",
        "elif a<0 and b<0:\n",
        "  print('3')\n",
        "else:\n",
        "  print('4')"
      ],
      "execution_count": null,
      "outputs": [
        {
          "output_type": "stream",
          "name": "stdout",
          "text": [
            "9\n",
            "-13\n",
            "4\n"
          ]
        }
      ]
    },
    {
      "cell_type": "markdown",
      "metadata": {
        "id": "gN7YV8BkriHP"
      },
      "source": [
        "##2884"
      ]
    },
    {
      "cell_type": "code",
      "metadata": {
        "colab": {
          "base_uri": "https://localhost:8080/"
        },
        "id": "J7TQk6jEri6v",
        "outputId": "b3c4cdb3-ceab-41bb-e2e3-f355a91197c3"
      },
      "source": [
        "h, m = map(int, input().split())\n",
        "if m < 45:\n",
        "  if h == 0:\n",
        "    h = 23\n",
        "    m += 60\n",
        "  else:\n",
        "    h -= 1\n",
        "    m += 60\n",
        "print(h, m-45)"
      ],
      "execution_count": null,
      "outputs": [
        {
          "output_type": "stream",
          "name": "stdout",
          "text": [
            "3 15\n",
            "2 30\n"
          ]
        }
      ]
    },
    {
      "cell_type": "markdown",
      "metadata": {
        "id": "xb5lYwI-WJnb"
      },
      "source": [
        "##2739"
      ]
    },
    {
      "cell_type": "code",
      "metadata": {
        "colab": {
          "base_uri": "https://localhost:8080/"
        },
        "id": "I0ZVlZVNWKfJ",
        "outputId": "74be15a2-e54e-4ade-bc1f-3d02aba8f894"
      },
      "source": [
        "n = int(input())\n",
        "for i in range(1, 10):\n",
        "  print(str(n)+' * '+str(i)+' = '+str(n*i))"
      ],
      "execution_count": null,
      "outputs": [
        {
          "output_type": "stream",
          "name": "stdout",
          "text": [
            "2\n",
            "2 * 1 = 2\n",
            "2 * 2 = 4\n",
            "2 * 3 = 6\n",
            "2 * 4 = 8\n",
            "2 * 5 = 10\n",
            "2 * 6 = 12\n",
            "2 * 7 = 14\n",
            "2 * 8 = 16\n",
            "2 * 9 = 18\n"
          ]
        }
      ]
    },
    {
      "cell_type": "markdown",
      "metadata": {
        "id": "SqKcn4yxZeNt"
      },
      "source": [
        "##10950"
      ]
    },
    {
      "cell_type": "code",
      "metadata": {
        "colab": {
          "base_uri": "https://localhost:8080/"
        },
        "id": "yyHt969LZdo5",
        "outputId": "8f766b7b-1927-4e85-87fc-bb799a172fbd"
      },
      "source": [
        "t = int(input())\n",
        "for i in range(t):\n",
        "  a, b = map(int, input().split())\n",
        "  print(a+b)\n"
      ],
      "execution_count": null,
      "outputs": [
        {
          "output_type": "stream",
          "name": "stdout",
          "text": [
            "6\n",
            "9 9\n",
            "18\n",
            "3 4\n",
            "7\n",
            "6 1\n",
            "7\n",
            "78 3\n",
            "81\n",
            "5678 456\n",
            "6134\n",
            "98 4\n",
            "102\n"
          ]
        }
      ]
    },
    {
      "cell_type": "markdown",
      "metadata": {
        "id": "e0VZDKzbbF8k"
      },
      "source": [
        "##8393"
      ]
    },
    {
      "cell_type": "code",
      "metadata": {
        "colab": {
          "base_uri": "https://localhost:8080/"
        },
        "id": "MDjzm-d5bHru",
        "outputId": "6a6bae64-a13c-4465-ae02-6a7e8e88e7dd"
      },
      "source": [
        "n = int(input())\n",
        "for i in range(n):\n",
        "  n = n + i\n",
        "  i += 1\n",
        "print(n)"
      ],
      "execution_count": null,
      "outputs": [
        {
          "output_type": "stream",
          "name": "stdout",
          "text": [
            "100\n",
            "5050\n"
          ]
        }
      ]
    },
    {
      "cell_type": "markdown",
      "metadata": {
        "id": "0ExvqZJqd5JB"
      },
      "source": [
        "##15552"
      ]
    },
    {
      "cell_type": "code",
      "metadata": {
        "colab": {
          "base_uri": "https://localhost:8080/",
          "height": 236
        },
        "id": "sM0qWjm-bZZc",
        "outputId": "6f41655c-d381-4cd8-92a1-d7c25c4dd7db"
      },
      "source": [
        "#코랩에서만 작동 안 되는 갓코드^^\n",
        "import sys\n",
        "t = int(sys.stdin.readline()) #또는 int(input())\n",
        "for i in range(t):\n",
        "  a, b = map(int, sys.stdin.readline().split())\n",
        "  print(a+b)"
      ],
      "execution_count": null,
      "outputs": [
        {
          "output_type": "error",
          "ename": "ValueError",
          "evalue": "ignored",
          "traceback": [
            "\u001b[0;31m---------------------------------------------------------------------------\u001b[0m",
            "\u001b[0;31mValueError\u001b[0m                                Traceback (most recent call last)",
            "\u001b[0;32m<ipython-input-116-8e7e3d5a48bd>\u001b[0m in \u001b[0;36m<module>\u001b[0;34m()\u001b[0m\n\u001b[1;32m      1\u001b[0m \u001b[0;32mimport\u001b[0m \u001b[0msys\u001b[0m\u001b[0;34m\u001b[0m\u001b[0;34m\u001b[0m\u001b[0m\n\u001b[0;32m----> 2\u001b[0;31m \u001b[0mt\u001b[0m \u001b[0;34m=\u001b[0m \u001b[0mint\u001b[0m\u001b[0;34m(\u001b[0m\u001b[0msys\u001b[0m\u001b[0;34m.\u001b[0m\u001b[0mstdin\u001b[0m\u001b[0;34m.\u001b[0m\u001b[0mreadline\u001b[0m\u001b[0;34m(\u001b[0m\u001b[0;34m)\u001b[0m\u001b[0;34m)\u001b[0m \u001b[0;31m#또는 int(input())\u001b[0m\u001b[0;34m\u001b[0m\u001b[0;34m\u001b[0m\u001b[0m\n\u001b[0m\u001b[1;32m      3\u001b[0m \u001b[0;32mfor\u001b[0m \u001b[0mi\u001b[0m \u001b[0;32min\u001b[0m \u001b[0mrange\u001b[0m\u001b[0;34m(\u001b[0m\u001b[0mt\u001b[0m\u001b[0;34m)\u001b[0m\u001b[0;34m:\u001b[0m\u001b[0;34m\u001b[0m\u001b[0;34m\u001b[0m\u001b[0m\n\u001b[1;32m      4\u001b[0m   \u001b[0ma\u001b[0m\u001b[0;34m,\u001b[0m \u001b[0mb\u001b[0m \u001b[0;34m=\u001b[0m \u001b[0mmap\u001b[0m\u001b[0;34m(\u001b[0m\u001b[0mint\u001b[0m\u001b[0;34m,\u001b[0m \u001b[0msys\u001b[0m\u001b[0;34m.\u001b[0m\u001b[0mstdin\u001b[0m\u001b[0;34m.\u001b[0m\u001b[0mreadline\u001b[0m\u001b[0;34m(\u001b[0m\u001b[0;34m)\u001b[0m\u001b[0;34m.\u001b[0m\u001b[0msplit\u001b[0m\u001b[0;34m(\u001b[0m\u001b[0;34m)\u001b[0m\u001b[0;34m)\u001b[0m\u001b[0;34m\u001b[0m\u001b[0;34m\u001b[0m\u001b[0m\n\u001b[1;32m      5\u001b[0m   \u001b[0mprint\u001b[0m\u001b[0;34m(\u001b[0m\u001b[0ma\u001b[0m\u001b[0;34m+\u001b[0m\u001b[0mb\u001b[0m\u001b[0;34m)\u001b[0m\u001b[0;34m\u001b[0m\u001b[0;34m\u001b[0m\u001b[0m\n",
            "\u001b[0;31mValueError\u001b[0m: invalid literal for int() with base 10: ''"
          ]
        }
      ]
    },
    {
      "cell_type": "markdown",
      "metadata": {
        "id": "7vcFxsuofsel"
      },
      "source": [
        "##2741"
      ]
    },
    {
      "cell_type": "code",
      "metadata": {
        "colab": {
          "base_uri": "https://localhost:8080/"
        },
        "id": "vmLAZVY7fKAu",
        "outputId": "7671f13c-b36c-4875-df99-226d1347ec88"
      },
      "source": [
        "n = int(input())\n",
        "for i in range(n):\n",
        "  i += 1\n",
        "  print(i)\n",
        "  "
      ],
      "execution_count": null,
      "outputs": [
        {
          "output_type": "stream",
          "name": "stdout",
          "text": [
            "10\n",
            "1\n",
            "2\n",
            "3\n",
            "4\n",
            "5\n",
            "6\n",
            "7\n",
            "8\n",
            "9\n",
            "10\n"
          ]
        }
      ]
    },
    {
      "cell_type": "markdown",
      "metadata": {
        "id": "f2zS60rrg338"
      },
      "source": [
        "##2742"
      ]
    },
    {
      "cell_type": "code",
      "metadata": {
        "colab": {
          "base_uri": "https://localhost:8080/"
        },
        "id": "OTMrYexhgMBR",
        "outputId": "5c232630-1b8a-44eb-d7f6-46820400308d"
      },
      "source": [
        "n = int(input())\n",
        "for i in range(n):\n",
        "  print(n)\n",
        "  n -= 1"
      ],
      "execution_count": null,
      "outputs": [
        {
          "output_type": "stream",
          "name": "stdout",
          "text": [
            "10\n",
            "10\n",
            "9\n",
            "8\n",
            "7\n",
            "6\n",
            "5\n",
            "4\n",
            "3\n",
            "2\n",
            "1\n"
          ]
        }
      ]
    },
    {
      "cell_type": "markdown",
      "metadata": {
        "id": "OsOK4movhWPJ"
      },
      "source": [
        "##11021"
      ]
    },
    {
      "cell_type": "code",
      "metadata": {
        "colab": {
          "base_uri": "https://localhost:8080/"
        },
        "id": "QuNnzu93hXYI",
        "outputId": "59a4143c-d73b-4206-e4f8-b3c5c7f537ee"
      },
      "source": [
        "t = int(input())\n",
        "for i in range(t):\n",
        "  a, b = map(int, input().split())\n",
        "  print('Case #%d: '%(i+1)+ str(a+b))"
      ],
      "execution_count": null,
      "outputs": [
        {
          "output_type": "stream",
          "name": "stdout",
          "text": [
            "3\n",
            "1 1\n",
            "Case #1: 2\n",
            "2 3\n",
            "Case #2: 5\n",
            "3 4 \n",
            "Case #3: 7\n"
          ]
        }
      ]
    },
    {
      "cell_type": "markdown",
      "metadata": {
        "id": "F1ggIi7CjU_6"
      },
      "source": [
        "##11022"
      ]
    },
    {
      "cell_type": "code",
      "metadata": {
        "colab": {
          "base_uri": "https://localhost:8080/"
        },
        "id": "JYx6LMWNjXPP",
        "outputId": "e9d3ba65-0da5-469c-e3cb-697435fbe6a0"
      },
      "source": [
        "t = int(input())\n",
        "for i in range(t):\n",
        "  a, b = map(int, input().split())\n",
        "  print('Case #%d: %d + %d = '%(i+1, a, b)+ str(a+b))"
      ],
      "execution_count": null,
      "outputs": [
        {
          "output_type": "stream",
          "name": "stdout",
          "text": [
            "3\n",
            "1 1\n",
            "Case #1: 1 + 1 = 2\n",
            "2 3\n",
            "Case #2: 2 + 3 = 5\n",
            "3 4\n",
            "Case #3: 3 + 4 = 7\n"
          ]
        }
      ]
    },
    {
      "cell_type": "markdown",
      "metadata": {
        "id": "8xIHuv30jrKz"
      },
      "source": [
        "##2438"
      ]
    },
    {
      "cell_type": "code",
      "metadata": {
        "colab": {
          "base_uri": "https://localhost:8080/"
        },
        "id": "tehr3C-mjsnF",
        "outputId": "02977232-b8e5-4738-acfa-520199a87acb"
      },
      "source": [
        "n = int(input())\n",
        "for i in range(n):\n",
        "  i += 1\n",
        "  print(i*'*')\n"
      ],
      "execution_count": null,
      "outputs": [
        {
          "output_type": "stream",
          "name": "stdout",
          "text": [
            "5\n",
            "*\n",
            "**\n",
            "***\n",
            "****\n",
            "*****\n"
          ]
        }
      ]
    },
    {
      "cell_type": "markdown",
      "metadata": {
        "id": "koTwQw_tk-7I"
      },
      "source": [
        "##2439"
      ]
    },
    {
      "cell_type": "code",
      "metadata": {
        "colab": {
          "base_uri": "https://localhost:8080/"
        },
        "id": "aA3s5LCdkStl",
        "outputId": "e13ce4bc-6392-4b62-fdc0-5310f42666f7"
      },
      "source": [
        "n = int(input())\n",
        "for i in range(n):\n",
        "  n -= 1\n",
        "  i += 1\n",
        "  print((n*' ')+('*'*i))"
      ],
      "execution_count": null,
      "outputs": [
        {
          "output_type": "stream",
          "name": "stdout",
          "text": [
            "5\n",
            "    *\n",
            "   **\n",
            "  ***\n",
            " ****\n",
            "*****\n"
          ]
        }
      ]
    },
    {
      "cell_type": "markdown",
      "metadata": {
        "id": "k9Cci90IospO"
      },
      "source": [
        "##10871"
      ]
    },
    {
      "cell_type": "code",
      "metadata": {
        "colab": {
          "base_uri": "https://localhost:8080/"
        },
        "id": "Iq_UzJrWotoE",
        "outputId": "a1d181f6-240e-44c8-83d3-670ab3656999"
      },
      "source": [
        "n, t = map(int, input().split())\n",
        "k = list(map(int, input().split()))\n",
        "for i in range(n):\n",
        "  if k[i] < t:\n",
        "    print(k[i], end = ' ')\n"
      ],
      "execution_count": null,
      "outputs": [
        {
          "output_type": "stream",
          "name": "stdout",
          "text": [
            "10 5\n",
            "1 10 4 9 2 3 8 5 7 6\n",
            "1 4 2 3 "
          ]
        }
      ]
    }
  ]
}