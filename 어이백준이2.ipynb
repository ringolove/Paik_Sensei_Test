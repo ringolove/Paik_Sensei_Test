{
  "nbformat": 4,
  "nbformat_minor": 0,
  "metadata": {
    "colab": {
      "name": "어이백준이2",
      "provenance": [],
      "authorship_tag": "ABX9TyPA3+4uwNdN9nR/uxUtold1",
      "include_colab_link": true
    },
    "kernelspec": {
      "name": "python3",
      "display_name": "Python 3"
    },
    "language_info": {
      "name": "python"
    }
  },
  "cells": [
    {
      "cell_type": "markdown",
      "metadata": {
        "id": "view-in-github",
        "colab_type": "text"
      },
      "source": [
        "<a href=\"https://colab.research.google.com/github/ringolove/Paik_Sensei_Test_1/blob/main/%EC%96%B4%EC%9D%B4%EB%B0%B1%EC%A4%80%EC%9D%B42.ipynb\" target=\"_parent\"><img src=\"https://colab.research.google.com/assets/colab-badge.svg\" alt=\"Open In Colab\"/></a>"
      ]
    },
    {
      "cell_type": "markdown",
      "metadata": {
        "id": "rUZqi8KImbuz"
      },
      "source": [
        "#1."
      ]
    },
    {
      "cell_type": "markdown",
      "metadata": {
        "id": "JRSdSVtNmkjb"
      },
      "source": [
        "##10952"
      ]
    },
    {
      "cell_type": "code",
      "metadata": {
        "colab": {
          "base_uri": "https://localhost:8080/"
        },
        "id": "rXeDddz3mY4x",
        "outputId": "4506a1ab-b1d3-4d2a-da30-e647fe86700d"
      },
      "source": [
        "while True:\n",
        "  a, b = map(int, input().split())\n",
        "  if a==0 and b==0:\n",
        "    break\n",
        "  else:\n",
        "    print(a+b)"
      ],
      "execution_count": null,
      "outputs": [
        {
          "name": "stdout",
          "output_type": "stream",
          "text": [
            "1 3\n",
            "4\n",
            "5 7\n",
            "12\n",
            "5 8\n",
            "13\n",
            "12 7 \n",
            "19\n",
            "456 78\n",
            "534\n",
            "0 0\n"
          ]
        }
      ]
    },
    {
      "cell_type": "markdown",
      "metadata": {
        "id": "qIKz5PtN1F9z"
      },
      "source": [
        "##10951"
      ]
    },
    {
      "cell_type": "code",
      "metadata": {
        "colab": {
          "base_uri": "https://localhost:8080/"
        },
        "id": "kdByxC3unCOi",
        "outputId": "d52cfd27-0816-4b48-9fd1-0710864e943b"
      },
      "source": [
        "try:\n",
        "  while True:\n",
        "      a, b = map(int, input().split())\n",
        "      print(a+b)\n",
        "except:\n",
        "  exit()"
      ],
      "execution_count": null,
      "outputs": [
        {
          "name": "stdout",
          "output_type": "stream",
          "text": [
            "0\n"
          ]
        }
      ]
    },
    {
      "cell_type": "markdown",
      "metadata": {
        "id": "2avVFdoO78Si"
      },
      "source": [
        "##1110"
      ]
    },
    {
      "cell_type": "code",
      "metadata": {
        "colab": {
          "base_uri": "https://localhost:8080/"
        },
        "id": "sGGxbb0y3qF1",
        "outputId": "93eca586-48ce-49ea-d0ed-e590b16fddd3"
      },
      "source": [
        "n = int(input())\n",
        "num = n\n",
        "count = 0\n",
        "while True:\n",
        "  a = num//10\n",
        "  b = num%10\n",
        "  c = (a+b)%10\n",
        "  num = (b*10) + c\n",
        "\n",
        "  count += 1\n",
        "  if num == n:\n",
        "    break\n",
        "\n",
        "print(count)"
      ],
      "execution_count": null,
      "outputs": [
        {
          "output_type": "stream",
          "name": "stdout",
          "text": [
            "1\n",
            "60\n"
          ]
        }
      ]
    },
    {
      "cell_type": "markdown",
      "metadata": {
        "id": "AA3GdJT0tRAX"
      },
      "source": [
        "##10818"
      ]
    },
    {
      "cell_type": "code",
      "metadata": {
        "colab": {
          "base_uri": "https://localhost:8080/"
        },
        "id": "iSNgyHE2-wyy",
        "outputId": "05e94e9a-6e61-459b-ee37-fc760d81ef35"
      },
      "source": [
        "t = int(input())\n",
        "nums = list(map(int, input().split()))\n",
        "print(min(nums),max(nums))\n"
      ],
      "execution_count": null,
      "outputs": [
        {
          "output_type": "stream",
          "name": "stdout",
          "text": [
            "5\n",
            "1 2 3 4 5 56 6 \n",
            "1 56\n"
          ]
        }
      ]
    },
    {
      "cell_type": "code",
      "metadata": {
        "colab": {
          "base_uri": "https://localhost:8080/",
          "height": 131
        },
        "id": "axXCHwpgvMMm",
        "outputId": "9add442a-63af-44f1-8246-7528c13bd7f2"
      },
      "source": [
        "t = int(input())\n",
        "nums = list(map(int, input().split()))\n",
        "max = nums[0]\n",
        "min = nums[0]\n",
        "\n",
        "for i in nums[1:]:\n",
        "    if i > max:\n",
        "        max = i\n",
        "    elif i < min:\n",
        "        min = i\n",
        "\n",
        "print(min,max) #정답인데 갓코랩에서만 오류 나옴^^​"
      ],
      "execution_count": null,
      "outputs": [
        {
          "output_type": "error",
          "ename": "SyntaxError",
          "evalue": "ignored",
          "traceback": [
            "\u001b[0;36m  File \u001b[0;32m\"<ipython-input-18-a5e119b99855>\"\u001b[0;36m, line \u001b[0;32m12\u001b[0m\n\u001b[0;31m    print(min,max)​\u001b[0m\n\u001b[0m                  ^\u001b[0m\n\u001b[0;31mSyntaxError\u001b[0m\u001b[0;31m:\u001b[0m invalid character in identifier\n"
          ]
        }
      ]
    },
    {
      "cell_type": "markdown",
      "metadata": {
        "id": "tUdFSB9ox86I"
      },
      "source": [
        "##2562"
      ]
    },
    {
      "cell_type": "code",
      "metadata": {
        "colab": {
          "base_uri": "https://localhost:8080/"
        },
        "id": "t_hk_KTOwzJC",
        "outputId": "c44c425f-30dd-4956-c27e-bd1987c3aa9f"
      },
      "source": [
        "t = [int(input()) for i in range(9)]\n",
        "print(str(max(t))+'\\n'+str((t.index(max(t)))+1))"
      ],
      "execution_count": null,
      "outputs": [
        {
          "output_type": "stream",
          "name": "stdout",
          "text": [
            "3\n",
            "29\n",
            "38\n",
            "12\n",
            "57\n",
            "74\n",
            "40\n",
            "85\n",
            "61\n",
            "85\n",
            "8\n"
          ]
        }
      ]
    },
    {
      "cell_type": "code",
      "metadata": {
        "colab": {
          "base_uri": "https://localhost:8080/"
        },
        "id": "B9IP7I2ky5SR",
        "outputId": "82cf6f36-d928-4547-dcdd-2d39dd12af9f"
      },
      "source": [
        "t = list(map(int, input().split()))\n",
        "print(t.index(max(t)))"
      ],
      "execution_count": null,
      "outputs": [
        {
          "output_type": "stream",
          "name": "stdout",
          "text": [
            "1 3 5 8 4 8 9\n",
            "6\n"
          ]
        }
      ]
    },
    {
      "cell_type": "markdown",
      "metadata": {
        "id": "kUOGlPiO1LiI"
      },
      "source": [
        "##2577"
      ]
    },
    {
      "cell_type": "code",
      "metadata": {
        "colab": {
          "base_uri": "https://localhost:8080/"
        },
        "id": "Rf5G4mtszGEP",
        "outputId": "554dfba3-fe17-4588-dbef-4446200776d4"
      },
      "source": [
        "a = int(input())\n",
        "b = int(input())\n",
        "c = int(input())\n",
        "t = list(str(a*b*c))\n",
        "ans = [0,0,0,0,0,0,0,0,0,0]\n",
        "\n",
        "for i in t:\n",
        "  ans[int(i)] += 1\n",
        "\n",
        "for i in ans:\n",
        "  print(i)"
      ],
      "execution_count": null,
      "outputs": [
        {
          "output_type": "stream",
          "name": "stdout",
          "text": [
            "150\n",
            "266\n",
            "427\n",
            "3\n",
            "1\n",
            "0\n",
            "2\n",
            "0\n",
            "0\n",
            "0\n",
            "2\n",
            "0\n",
            "0\n"
          ]
        }
      ]
    },
    {
      "cell_type": "code",
      "metadata": {
        "id": "fxIlESOa4QJf"
      },
      "source": [
        ""
      ],
      "execution_count": null,
      "outputs": []
    }
  ]
}