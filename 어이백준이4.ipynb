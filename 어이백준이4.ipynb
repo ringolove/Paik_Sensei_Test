{
  "nbformat": 4,
  "nbformat_minor": 0,
  "metadata": {
    "colab": {
      "name": "어이백준이4",
      "provenance": [],
      "collapsed_sections": [],
      "authorship_tag": "ABX9TyP0whPrfauTk3SnO1pxVp1q",
      "include_colab_link": true
    },
    "kernelspec": {
      "name": "python3",
      "display_name": "Python 3"
    },
    "language_info": {
      "name": "python"
    }
  },
  "cells": [
    {
      "cell_type": "markdown",
      "metadata": {
        "id": "view-in-github",
        "colab_type": "text"
      },
      "source": [
        "<a href=\"https://colab.research.google.com/github/ringolove/Paik_Sensei_Test_1/blob/main/%EC%96%B4%EC%9D%B4%EB%B0%B1%EC%A4%80%EC%9D%B44.ipynb\" target=\"_parent\"><img src=\"https://colab.research.google.com/assets/colab-badge.svg\" alt=\"Open In Colab\"/></a>"
      ]
    },
    {
      "cell_type": "markdown",
      "metadata": {
        "id": "STw8YQm2gc-W"
      },
      "source": [
        "#브루트포스 이어서"
      ]
    },
    {
      "cell_type": "markdown",
      "metadata": {
        "id": "cKCUzWSNnuDe"
      },
      "source": [
        "##2231"
      ]
    },
    {
      "cell_type": "code",
      "metadata": {
        "colab": {
          "base_uri": "https://localhost:8080/"
        },
        "id": "WwCsyJA4gbkf",
        "outputId": "c93f836a-471b-438c-f5f8-aab835c94926"
      },
      "source": [
        "# 문제 이해하는데만 30분 걸림^^\n",
        "t = int(input())\n",
        "ans = 0\n",
        "for i in range(1, t+1):\n",
        "    a = list(map(int, str(i)))\n",
        "    ans = i + sum(a)\n",
        "    if ans == t:\n",
        "      print(i)\n",
        "      break\n",
        "    \n",
        "    if i == t:\n",
        "      print(0)"
      ],
      "execution_count": null,
      "outputs": [
        {
          "output_type": "stream",
          "name": "stdout",
          "text": [
            "1000000\n",
            "0\n"
          ]
        }
      ]
    },
    {
      "cell_type": "code",
      "metadata": {
        "colab": {
          "base_uri": "https://localhost:8080/"
        },
        "id": "PX97Lmnyn_VE",
        "outputId": "275a2d5d-14e7-459e-b3a3-3beef2ded5d3"
      },
      "source": [
        "t = int(input())\n",
        "a = list(map(int, str(t)))\n",
        "a"
      ],
      "execution_count": null,
      "outputs": [
        {
          "name": "stdout",
          "output_type": "stream",
          "text": [
            "216\n"
          ]
        },
        {
          "output_type": "execute_result",
          "data": {
            "text/plain": [
              "[2, 1, 6]"
            ]
          },
          "metadata": {},
          "execution_count": 41
        }
      ]
    },
    {
      "cell_type": "code",
      "metadata": {
        "colab": {
          "base_uri": "https://localhost:8080/",
          "height": 53
        },
        "id": "_ss3O9UBocW4",
        "outputId": "5d6bfb48-7e28-4af7-8f87-f2158a841544"
      },
      "source": [
        "t = str(input())\n",
        "t"
      ],
      "execution_count": null,
      "outputs": [
        {
          "name": "stdout",
          "output_type": "stream",
          "text": [
            "216\n"
          ]
        },
        {
          "output_type": "execute_result",
          "data": {
            "application/vnd.google.colaboratory.intrinsic+json": {
              "type": "string"
            },
            "text/plain": [
              "'216'"
            ]
          },
          "metadata": {},
          "execution_count": 39
        }
      ]
    },
    {
      "cell_type": "markdown",
      "metadata": {
        "id": "ZnsU9AZZwAPt"
      },
      "source": [
        "##7568"
      ]
    },
    {
      "cell_type": "code",
      "metadata": {
        "colab": {
          "base_uri": "https://localhost:8080/"
        },
        "id": "venJkK6Nu4rA",
        "outputId": "8dc89984-5d2f-463a-ec5d-2d4454599afa"
      },
      "source": [
        "t = int(input())\n",
        "a = []\n",
        "rank = []\n",
        "for i in range(t):\n",
        "  a, b = map(int, input().split())\n",
        "  a.append((a, b))\n",
        "  \n",
        "for i in range(t):\n",
        "  cnt = 0\n",
        "  for j in range(t):\n",
        "    if a[i][0] < a[j][0] and a[i][1] < a[j][1]:\n",
        "      cnt += 1\n",
        "  rank.append(cnt + 1)\n",
        "print(rank)\n"
      ],
      "execution_count": 83,
      "outputs": [
        {
          "output_type": "stream",
          "name": "stdout",
          "text": [
            "5\n",
            "55 185\n",
            "58 183\n",
            "88 186\n",
            "60 175\n",
            "46 155\n",
            "[2, 2, 1, 2, 5]\n"
          ]
        }
      ]
    },
    {
      "cell_type": "code",
      "metadata": {
        "colab": {
          "base_uri": "https://localhost:8080/"
        },
        "id": "3t487Cdp-0rQ",
        "outputId": "b5d2274d-cd88-4d61-96bc-a141104ce3d9"
      },
      "source": [
        "# 이 풀이가 더 간결해서 좋음\n",
        "t = int(input())\n",
        "a = [list(map(int, input().split())) for i in range(t)]\n",
        "rank = [1 for i in range(t)]\n",
        "\n",
        "for i in range(t):\n",
        "  for j in range(t):\n",
        "    if a[i][0] < a[j][0] and a[i][1] < a[j][1]:\n",
        "      rank[i] += 1\n",
        "\n",
        "print(*rank)"
      ],
      "execution_count": 89,
      "outputs": [
        {
          "output_type": "stream",
          "name": "stdout",
          "text": [
            "5\n",
            "55 185\n",
            "58 183\n",
            "88 186\n",
            "60 175\n",
            "46 155\n",
            "2 2 5 2 1\n"
          ]
        }
      ]
    },
    {
      "cell_type": "markdown",
      "metadata": {
        "id": "m9enviSGAwPX"
      },
      "source": [
        "##1018"
      ]
    },
    {
      "cell_type": "code",
      "metadata": {
        "colab": {
          "base_uri": "https://localhost:8080/"
        },
        "id": "MIW_NR0BAyUj",
        "outputId": "ec538911-1d57-4a4f-dcdd-60d5e075d573"
      },
      "source": [
        "# 아직도 문제가 잘 이해 안 됨\n",
        "n, m = map(int, input().split())\n",
        "brd = [input() for i in range(n)]\n",
        "min_brd = []\n",
        "\n",
        "for i in range(n-7):\n",
        "  for j in range(m-7):\n",
        "    w = 0\n",
        "    b = 0\n",
        "    for k in range(i, i+8):\n",
        "      for l in range(j, j+8):\n",
        "        if (k+l)%2 == 0:\n",
        "          if brd[k][l] != 'W':\n",
        "            w += 1\n",
        "          else:\n",
        "            b += 1\n",
        "        else:\n",
        "          if brd[k][l] != 'B':\n",
        "            w += 1\n",
        "          else:\n",
        "            b += 1\n",
        "            \n",
        "    min_brd.append(w)\n",
        "    min_brd.append(b)\n",
        "\n",
        "print(min(min_brd))"
      ],
      "execution_count": 116,
      "outputs": [
        {
          "output_type": "stream",
          "name": "stdout",
          "text": [
            "9 23\n",
            "BBBBBBBBBBBBBBBBBBBBBBB\n",
            "BBBBBBBBBBBBBBBBBBBBBBB\n",
            "BBBBBBBBBBBBBBBBBBBBBBB\n",
            "BBBBBBBBBBBBBBBBBBBBBBB\n",
            "BBBBBBBBBBBBBBBBBBBBBBB\n",
            "BBBBBBBBBBBBBBBBBBBBBBB\n",
            "BBBBBBBBBBBBBBBBBBBBBBB\n",
            "BBBBBBBBBBBBBBBBBBBBBBB\n",
            "BBBBBBBBBBBBBBBBBBBBBBW\n",
            "31\n"
          ]
        }
      ]
    },
    {
      "cell_type": "markdown",
      "metadata": {
        "id": "LuMUlvCpUsNF"
      },
      "source": [
        "##1436"
      ]
    },
    {
      "cell_type": "code",
      "metadata": {
        "colab": {
          "base_uri": "https://localhost:8080/"
        },
        "id": "4LD9q1wgUtfW",
        "outputId": "914b9ad3-6292-484e-a880-e170cfbe6460"
      },
      "source": [
        "t = int(input())\n",
        "series = 666\n",
        "while t != 0:\n",
        "  if '666' in str(series):\n",
        "    t = t-1\n",
        "    if t == 0:\n",
        "      break\n",
        "  series += 1\n",
        "print(series)"
      ],
      "execution_count": 118,
      "outputs": [
        {
          "output_type": "stream",
          "name": "stdout",
          "text": [
            "500\n",
            "166699\n"
          ]
        }
      ]
    }
  ]
}